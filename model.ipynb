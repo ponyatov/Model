{
 "cells": [
  {
   "cell_type": "code",
   "execution_count": 128,
   "id": "b152a19c",
   "metadata": {},
   "outputs": [],
   "source": [
    "MODULE    = 'model'\n",
    "TITLE     = 'Smalltalk-ish interactive programming environment model'\n",
    "ABOUT     = ''''''"
   ]
  },
  {
   "cell_type": "code",
   "execution_count": 129,
   "id": "58eeb51a",
   "metadata": {},
   "outputs": [],
   "source": [
    "AUTHOR    = 'Dmitry Ponyatov'\n",
    "EMAIL     = 'dponyatov@gmail.com'\n",
    "YEAR      = 2021\n",
    "LICENSE   = 'MIT'\n",
    "\n",
    "COPYRIGHT = f'(c) {AUTHOR} <{EMAIL}> {YEAR} All rights reserved ({LICENSE})'"
   ]
  },
  {
   "cell_type": "markdown",
   "id": "7d46bcdb",
   "metadata": {},
   "source": [
    "## Smalltalk-ish interactive programming environment **_model_**"
   ]
  },
  {
   "cell_type": "code",
   "execution_count": 130,
   "id": "daf23d5c",
   "metadata": {},
   "outputs": [
    {
     "name": "stdout",
     "output_type": "stream",
     "text": [
      "(c) Dmitry Ponyatov <dponyatov@gmail.com> 2021 All rights reserved (MIT)\n"
     ]
    }
   ],
   "source": [
    "print(COPYRIGHT)"
   ]
  },
  {
   "cell_type": "markdown",
   "id": "418abcd0",
   "metadata": {},
   "source": [
    "The goal of this project is to make a high-level model of an interactive environment (and programming language maybe) using the [Object graph](https://en.wikipedia.org/wiki/Object_graph) model as a core software representation layer."
   ]
  },
  {
   "cell_type": "markdown",
   "id": "c4bc553f",
   "metadata": {},
   "source": [
    "The Python language and its runtime semantics look great as a base for such an interactive model, as it has a lot of advantages:\n",
    "* dynamic language\n",
    "* Python has a syntax that forces its readability \n",
    "* so not all like it, just use the appropriate and well-configures editor\n",
    "* OOP implementation with custom operators\n",
    "* popular, with huge amount of modules, and easy to learn and use"
   ]
  },
  {
   "cell_type": "markdown",
   "id": "611f4e3c",
   "metadata": {},
   "source": [
    "This manual is written in the [JupyterWeb](https://en.wikipedia.org/wiki/Web_(programming_system)) style, so the order of text and its detailed complexity is forced by the nature of [literate programming](https://en.wikipedia.org/wiki/Literate_programming) that kills the idea: the narrative is rigidly determined by the order of the code."
   ]
  },
  {
   "cell_type": "markdown",
   "id": "cc6e7c93",
   "metadata": {},
   "source": [
    "## Links"
   ]
  },
  {
   "cell_type": "markdown",
   "id": "ed5750a9",
   "metadata": {},
   "source": []
  },
  {
   "cell_type": "markdown",
   "id": "d852e085",
   "metadata": {},
   "source": [
    "## Object graph"
   ]
  },
  {
   "cell_type": "markdown",
   "id": "221d1f9c",
   "metadata": {},
   "source": [
    "The object graph is an *active* data structure formed by objects containing references (pointers) to other objects.\n",
    "\n",
    "https://en.wikipedia.org/wiki/Object_graph\n",
    "\n",
    "As references have direction, this graph can be said precisely as a **directed hypergraph** of objects."
   ]
  },
  {
   "cell_type": "markdown",
   "id": "cc31b2ff",
   "metadata": {},
   "source": [
    "The idea of using object (hyper)graph for general-purpose knowledge representation can be inherited from the well-known [frames]. Thus, we can take the object graph as a core data structure not only for program representation but also for any application and user data storage.\n",
    "\n",
    "[frames] **Marvin Minsky** [A Framework for Representing Knowledge](https://web.media.mit.edu/~minsky/papers/Frames/frames.html) <br>\n",
    "MIT-AI Laboratory Memo 306, June, 1974."
   ]
  },
  {
   "cell_type": "markdown",
   "id": "bbdec488",
   "metadata": {},
   "source": [
    "* As you can see next, the base `Object` and all its inherited classes mix the nature of classic lists and maps (associative array) at the same time, so the whole system can be built upon the homogenous and active data structure.\n",
    "* The `Active` means all objects and subgraphs have associated execution semantics and can be executed in some or a few ways."
   ]
  },
  {
   "cell_type": "code",
   "execution_count": 131,
   "id": "c377c9ee",
   "metadata": {},
   "outputs": [],
   "source": [
    "class Object:\n",
    "    def __init__(self, V):\n",
    "        # scalar value: object name, number/string value,..\n",
    "        self.value = V\n",
    "        # slots: associative array = map = env/namespace = attributes\n",
    "        self.slot  = {}\n",
    "        # nested: vector = stack = nested AST subtrees\n",
    "        self.nest  = []"
   ]
  },
  {
   "cell_type": "code",
   "execution_count": 132,
   "id": "079fad4e",
   "metadata": {},
   "outputs": [
    {
     "name": "stdout",
     "output_type": "stream",
     "text": [
      "<__main__.Object object at 0x7f5c7019d438>\n",
      "hello\n",
      "{}\n",
      "[]\n"
     ]
    }
   ],
   "source": [
    "hello = Object('hello'); print(hello)\n",
    "\n",
    "print(hello.value)\n",
    "print(hello.slot)\n",
    "print(hello.nest)"
   ]
  },
  {
   "cell_type": "markdown",
   "id": "4134c112",
   "metadata": {},
   "source": [
    "### Text dump for Object graph"
   ]
  },
  {
   "cell_type": "markdown",
   "id": "e4f22ecb",
   "metadata": {},
   "source": [
    "For debugging and logging purposes we need to have a way to dump any object graph in a text form. For doing this we can start from some root node, and do recursive graph traversal with tabbing each level of recursion in output."
   ]
  },
  {
   "cell_type": "code",
   "execution_count": 133,
   "id": "fd6c05fd",
   "metadata": {},
   "outputs": [],
   "source": [
    "class Object(Object):\n",
    "    # `print` callback\n",
    "    def __repr__(self): return self.dump()\n",
    "    # full text tree dump\n",
    "    def dump(self, cycle=[], depth=0, prefix=''):\n",
    "        # head\n",
    "        def pad(depth): return '\\n' + '\\t' * depth\n",
    "        ret = pad(depth) + self.head(prefix)\n",
    "        # cycle\n",
    "        if not depth: cycle = [] # recursion root\n",
    "        if self in cycle: return f'{ret} _/'\n",
    "        else: cycle.append(self)\n",
    "        # slot{}s\n",
    "        for i in self.keys():\n",
    "            ret += self[i].dump(cycle, depth+1, f'{i} = ')\n",
    "        # nest[]ed\n",
    "        for j,k in enumerate(self):\n",
    "            ret += k.dump(cycle, depth+1, f'{j}: ')\n",
    "        # subgraph\n",
    "        return ret\n",
    "    # single line `<T:V>` header\n",
    "    def head(self, prefix=''):\n",
    "        gid = f' @{id(self):x}'\n",
    "        return f'{prefix}<{self.tag()}:{self.val()}>{gid}'\n",
    "    # `<T:`\n",
    "    def tag(self): return self.__class__.__name__.lower()\n",
    "    # `:V>`\n",
    "    def val(self): return f'{self.value}'"
   ]
  },
  {
   "cell_type": "markdown",
   "id": "20fdb82a",
   "metadata": {},
   "source": [
    "### Python types boxing"
   ]
  },
  {
   "cell_type": "markdown",
   "id": "61ad40b9",
   "metadata": {},
   "source": [
    "Some Python types should be to be boxed inside corresponding `Primitive` graph nodes:"
   ]
  },
  {
   "cell_type": "code",
   "execution_count": 134,
   "id": "b65cafc0",
   "metadata": {},
   "outputs": [],
   "source": [
    "class Object(Object):\n",
    "    def box(self, that):\n",
    "        if isinstance(that, Object): return that\n",
    "        if isinstance(that, int): return Int(that)\n",
    "        if isinstance(that, str): return S(that)\n",
    "        raise TypeError(['box', type(that), that])"
   ]
  },
  {
   "cell_type": "markdown",
   "id": "7b7f66b4",
   "metadata": {},
   "source": [
    "### Operators"
   ]
  },
  {
   "cell_type": "markdown",
   "id": "5d9194e0",
   "metadata": {},
   "source": [
    "It is handy to define some frequently-used operations over graphs with special operators.<br>\n",
    "It also includes some operations used above while dumping and iterating over graphs."
   ]
  },
  {
   "cell_type": "code",
   "execution_count": 135,
   "id": "6e04a047",
   "metadata": {},
   "outputs": [],
   "source": [
    "class Object(Object):\n",
    "    # `keys()`\n",
    "    def keys(self): return sorted(self.slot.keys())\n",
    "    # `iter()`\n",
    "    def __iter__(self): return iter(self.nest)\n",
    "    # `A//B ~> A.push(B)`\n",
    "    def __floordiv__(self, that):\n",
    "        self.nest.append(self.box(that)) ; return self\n",
    "    # `A[key]`\n",
    "    def __getitem__(self, key):\n",
    "        if isinstance(key, str): return self.slot[key]\n",
    "        if isinstance(key, int): return self.nest[key]\n",
    "        raise TypeError(['__getitem__', type(key), key])\n",
    "    # `A[key] = B`\n",
    "    def __setitem__(self, key, that):\n",
    "        assert isinstance(key, str)\n",
    "        self.slot[key] = self.box(that); return self\n",
    "    # `A << B ~> A[B.type] = B`\n",
    "    def __lshift__(self, that):\n",
    "        that = self.box(that); return self.__setitem__(that.tag(), that)\n",
    "    # `A >> B ~> A[B.value] = B`\n",
    "    def __rshift__(self, that):\n",
    "        that = self.box(that); return self.__setitem__(that.val(), that)    "
   ]
  },
  {
   "cell_type": "code",
   "execution_count": 136,
   "id": "a1f79459",
   "metadata": {},
   "outputs": [
    {
     "name": "stdout",
     "output_type": "stream",
     "text": [
      "\n",
      "<object:hello> @7f5c700f6240\n",
      "\t0: <object:world> @7f5c700f6358\n"
     ]
    }
   ],
   "source": [
    "hello = Object('hello')\n",
    "world = Object('world')\n",
    "print( hello // world )"
   ]
  },
  {
   "cell_type": "code",
   "execution_count": 137,
   "id": "4ec744ee",
   "metadata": {},
   "outputs": [
    {
     "name": "stdout",
     "output_type": "stream",
     "text": [
      "\n",
      "<object:hello> @7f5c700f6240\n",
      "\tobject = <object:left> @7f5c700f6710\n",
      "\tright = <object:right> @7f5c700f6780\n",
      "\t0: <object:world> @7f5c700f6358\n"
     ]
    }
   ],
   "source": [
    "left = Object('left') ; right = Object('right')\n",
    "print( hello << left >> right)"
   ]
  },
  {
   "cell_type": "markdown",
   "id": "1e04579c",
   "metadata": {},
   "source": [
    "## GUI"
   ]
  },
  {
   "cell_type": "code",
   "execution_count": 60,
   "id": "e9ee61cd",
   "metadata": {},
   "outputs": [],
   "source": [
    "class GUI(Object): pass"
   ]
  },
  {
   "cell_type": "code",
   "execution_count": 61,
   "id": "d4a296fa",
   "metadata": {},
   "outputs": [],
   "source": [
    "from IPython.display import display\n",
    "import ipywidgets as widgets"
   ]
  },
  {
   "cell_type": "code",
   "execution_count": 62,
   "id": "e4797de1",
   "metadata": {},
   "outputs": [
    {
     "data": {
      "application/vnd.jupyter.widget-view+json": {
       "model_id": "ef538102dd2a4ad39f0ca0bd5138ffd5",
       "version_major": 2,
       "version_minor": 0
      },
      "text/plain": [
       "IntSlider(value=0, description='test')"
      ]
     },
     "metadata": {},
     "output_type": "display_data"
    }
   ],
   "source": [
    "sli = widgets.IntSlider()\n",
    "sli.description = 'test'\n",
    "display(sli)"
   ]
  },
  {
   "cell_type": "code",
   "execution_count": 63,
   "id": "b33767d7",
   "metadata": {},
   "outputs": [],
   "source": [
    "class Slider(GUI):\n",
    "    def __init__(self, V):\n",
    "        super().__init__(V)\n",
    "        self.slider = widgets.IntSlider()\n",
    "        self.slider.description = self.head()\n",
    "    def show(self):\n",
    "        display(self.slider)"
   ]
  },
  {
   "cell_type": "code",
   "execution_count": 64,
   "id": "28b170b0",
   "metadata": {},
   "outputs": [
    {
     "data": {
      "application/vnd.jupyter.widget-view+json": {
       "model_id": "dcaeb4bc0b8549c5939474584454dc41",
       "version_major": 2,
       "version_minor": 0
      },
      "text/plain": [
       "IntSlider(value=0, description='<slider:test> @7f5c701bf588')"
      ]
     },
     "metadata": {},
     "output_type": "display_data"
    }
   ],
   "source": [
    "Slider('test').show()"
   ]
  }
 ],
 "metadata": {
  "celltoolbar": "Отсутствует",
  "kernelspec": {
   "display_name": "Python 3 (ipykernel)",
   "language": "python",
   "name": "python3"
  },
  "language_info": {
   "codemirror_mode": {
    "name": "ipython",
    "version": 3
   },
   "file_extension": ".py",
   "mimetype": "text/x-python",
   "name": "python",
   "nbconvert_exporter": "python",
   "pygments_lexer": "ipython3",
   "version": "3.7.3"
  }
 },
 "nbformat": 4,
 "nbformat_minor": 5
}
